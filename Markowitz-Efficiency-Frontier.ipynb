{
 "cells": [
  {
   "cell_type": "code",
   "execution_count": 21,
   "id": "ed247f9a-2045-489a-9a7f-2495d2569a03",
   "metadata": {},
   "outputs": [],
   "source": [
    "import pandas as pd\n",
    "import numpy as np"
   ]
  },
  {
   "cell_type": "code",
   "execution_count": 2,
   "id": "11a4534a-736b-44e6-88c5-f00d3916a9a4",
   "metadata": {},
   "outputs": [],
   "source": [
    "df = pd.DataFrame({\n",
    "    'A': [1,5,3],\n",
    "    'B': [1,6,5]\n",
    "})"
   ]
  },
  {
   "cell_type": "code",
   "execution_count": 3,
   "id": "6ddb8df8-198d-48b2-ab83-5428a515e493",
   "metadata": {},
   "outputs": [
    {
     "data": {
      "text/html": [
       "<div>\n",
       "<style scoped>\n",
       "    .dataframe tbody tr th:only-of-type {\n",
       "        vertical-align: middle;\n",
       "    }\n",
       "\n",
       "    .dataframe tbody tr th {\n",
       "        vertical-align: top;\n",
       "    }\n",
       "\n",
       "    .dataframe thead th {\n",
       "        text-align: right;\n",
       "    }\n",
       "</style>\n",
       "<table border=\"1\" class=\"dataframe\">\n",
       "  <thead>\n",
       "    <tr style=\"text-align: right;\">\n",
       "      <th></th>\n",
       "      <th>A</th>\n",
       "      <th>B</th>\n",
       "    </tr>\n",
       "  </thead>\n",
       "  <tbody>\n",
       "    <tr>\n",
       "      <th>0</th>\n",
       "      <td>1</td>\n",
       "      <td>1</td>\n",
       "    </tr>\n",
       "    <tr>\n",
       "      <th>1</th>\n",
       "      <td>5</td>\n",
       "      <td>6</td>\n",
       "    </tr>\n",
       "    <tr>\n",
       "      <th>2</th>\n",
       "      <td>3</td>\n",
       "      <td>5</td>\n",
       "    </tr>\n",
       "  </tbody>\n",
       "</table>\n",
       "</div>"
      ],
      "text/plain": [
       "   A  B\n",
       "0  1  1\n",
       "1  5  6\n",
       "2  3  5"
      ]
     },
     "execution_count": 3,
     "metadata": {},
     "output_type": "execute_result"
    }
   ],
   "source": [
    "df"
   ]
  },
  {
   "cell_type": "code",
   "execution_count": 5,
   "id": "b14892c5-35d6-417d-83c5-d35f13876311",
   "metadata": {},
   "outputs": [
    {
     "data": {
      "text/plain": [
       "A    3.0\n",
       "B    4.0\n",
       "dtype: float64"
      ]
     },
     "execution_count": 5,
     "metadata": {},
     "output_type": "execute_result"
    }
   ],
   "source": [
    "#Gives mean of e/a column\n",
    "df.mean()"
   ]
  },
  {
   "cell_type": "code",
   "execution_count": 8,
   "id": "a28fd77b-2434-4615-9fd5-c58ec48e40ff",
   "metadata": {},
   "outputs": [
    {
     "data": {
      "text/plain": [
       "3.5"
      ]
     },
     "execution_count": 8,
     "metadata": {},
     "output_type": "execute_result"
    }
   ],
   "source": [
    "#portfolio expected return\n",
    "0.5*3 + 0.5*4"
   ]
  },
  {
   "cell_type": "markdown",
   "id": "a1b3a4f8-72f1-487d-9dde-41c9efca84c0",
   "metadata": {},
   "source": [
    "### Two Asset Portfolio Variance Formula"
   ]
  },
  {
   "cell_type": "markdown",
   "id": "4ea932aa-d4e4-4364-81d1-edf89cac9ab1",
   "metadata": {},
   "source": [
    "$\n",
    "\\sigma_p^2 = w_1^2 \\sigma_1^2 + w_2^2 \\sigma_2^2 + 2w_1w_2 \\rho_{12} \\sigma_1 \\sigma_2\n",
    "$"
   ]
  },
  {
   "cell_type": "code",
   "execution_count": 11,
   "id": "0fce2f69-7c35-4663-9f28-3d1faf205ed5",
   "metadata": {},
   "outputs": [
    {
     "data": {
      "text/html": [
       "<div>\n",
       "<style scoped>\n",
       "    .dataframe tbody tr th:only-of-type {\n",
       "        vertical-align: middle;\n",
       "    }\n",
       "\n",
       "    .dataframe tbody tr th {\n",
       "        vertical-align: top;\n",
       "    }\n",
       "\n",
       "    .dataframe thead th {\n",
       "        text-align: right;\n",
       "    }\n",
       "</style>\n",
       "<table border=\"1\" class=\"dataframe\">\n",
       "  <thead>\n",
       "    <tr style=\"text-align: right;\">\n",
       "      <th></th>\n",
       "      <th>A</th>\n",
       "      <th>B</th>\n",
       "    </tr>\n",
       "  </thead>\n",
       "  <tbody>\n",
       "    <tr>\n",
       "      <th>A</th>\n",
       "      <td>4.0</td>\n",
       "      <td>5.0</td>\n",
       "    </tr>\n",
       "    <tr>\n",
       "      <th>B</th>\n",
       "      <td>5.0</td>\n",
       "      <td>7.0</td>\n",
       "    </tr>\n",
       "  </tbody>\n",
       "</table>\n",
       "</div>"
      ],
      "text/plain": [
       "     A    B\n",
       "A  4.0  5.0\n",
       "B  5.0  7.0"
      ]
     },
     "execution_count": 11,
     "metadata": {},
     "output_type": "execute_result"
    }
   ],
   "source": [
    "#calculating covariances\n",
    "#Remember Pandas uses sample covariance which is what we use in Finance\n",
    "df.cov()\n",
    "#For this we are taking the covariance since we get the variance from it too\n",
    "#Variance of A is equal to Cov(A,A)\n",
    "#Notice the diagonal is the variances"
   ]
  },
  {
   "cell_type": "code",
   "execution_count": 14,
   "id": "6fe3accf-4f50-4547-a89a-ee21e8188d55",
   "metadata": {},
   "outputs": [],
   "source": [
    "#Portfolioi variance\n",
    "pf_var = 0.5**2 * 4 + 0.5**2 * 7 + 2*0.5*0.5*5"
   ]
  },
  {
   "cell_type": "code",
   "execution_count": 15,
   "id": "cd83f69e-e9bd-4473-9937-a8529370e841",
   "metadata": {},
   "outputs": [
    {
     "data": {
      "text/plain": [
       "5.25"
      ]
     },
     "execution_count": 15,
     "metadata": {},
     "output_type": "execute_result"
    }
   ],
   "source": [
    "pf_var"
   ]
  },
  {
   "cell_type": "code",
   "execution_count": 18,
   "id": "d5af7126-c1d3-400b-9a03-2743c1d62ce5",
   "metadata": {},
   "outputs": [],
   "source": [
    "#Portfolio risk is given by the std\n",
    "pf_std = pf_var **(1/2)"
   ]
  },
  {
   "cell_type": "code",
   "execution_count": 19,
   "id": "353ce108-cc5e-408c-b224-b867539c1033",
   "metadata": {},
   "outputs": [
    {
     "data": {
      "text/plain": [
       "2.29128784747792"
      ]
     },
     "execution_count": 19,
     "metadata": {},
     "output_type": "execute_result"
    }
   ],
   "source": [
    "pf_std"
   ]
  },
  {
   "cell_type": "markdown",
   "id": "bddff5c8-c403-40b9-be47-b586687128e9",
   "metadata": {},
   "source": [
    "This approach is not scalable which is why we will do this below"
   ]
  },
  {
   "cell_type": "code",
   "execution_count": 29,
   "id": "0d3078d5-742c-4521-b7d2-9551c35dfa43",
   "metadata": {},
   "outputs": [],
   "source": [
    "num = len(df.columns)"
   ]
  },
  {
   "cell_type": "code",
   "execution_count": 30,
   "id": "64a3df1a-0bef-455f-92d9-451d386b2cf8",
   "metadata": {},
   "outputs": [],
   "source": [
    "w = np.ones(num) / num"
   ]
  },
  {
   "cell_type": "code",
   "execution_count": 31,
   "id": "9ce8fa06-a754-4f31-9bd8-1a194f33358e",
   "metadata": {},
   "outputs": [
    {
     "data": {
      "text/plain": [
       "array([0.5, 0.5])"
      ]
     },
     "execution_count": 31,
     "metadata": {},
     "output_type": "execute_result"
    }
   ],
   "source": [
    "w"
   ]
  },
  {
   "cell_type": "code",
   "execution_count": 37,
   "id": "c9efec48-b890-4cd9-aaa3-6376c9ba91a6",
   "metadata": {},
   "outputs": [],
   "source": [
    "pf_exp_ret = w.dot(df.mean())"
   ]
  },
  {
   "cell_type": "code",
   "execution_count": 38,
   "id": "123e0359-cf4c-4cbc-aea0-1a0f423e2bbf",
   "metadata": {},
   "outputs": [
    {
     "data": {
      "text/plain": [
       "np.float64(3.5)"
      ]
     },
     "execution_count": 38,
     "metadata": {},
     "output_type": "execute_result"
    }
   ],
   "source": [
    "pf_exp_ret"
   ]
  },
  {
   "cell_type": "code",
   "execution_count": 33,
   "id": "4e529b0a-3d30-4202-b595-d63ed54b8950",
   "metadata": {},
   "outputs": [],
   "source": [
    "pf_var = w.dot(df.cov().dot(w))"
   ]
  },
  {
   "cell_type": "code",
   "execution_count": 34,
   "id": "7564f6e8-7e68-4ecb-8ba0-77bc5bc77822",
   "metadata": {},
   "outputs": [],
   "source": [
    "pf_std = pf_var ** (1/2)"
   ]
  },
  {
   "cell_type": "code",
   "execution_count": 35,
   "id": "4cd06fb2-c5e3-43fa-a873-7c09409fd087",
   "metadata": {},
   "outputs": [
    {
     "data": {
      "text/plain": [
       "np.float64(2.29128784747792)"
      ]
     },
     "execution_count": 35,
     "metadata": {},
     "output_type": "execute_result"
    }
   ],
   "source": [
    "pf_std"
   ]
  },
  {
   "cell_type": "code",
   "execution_count": 1,
   "id": "cfba5b73-fce4-4242-8493-3ed294369d1f",
   "metadata": {},
   "outputs": [],
   "source": [
    "#Portfolio analysis with an equal weighted 3 asset portfolio\n",
    "import yfinance as yf\n",
    "import pandas as pd\n",
    "import numpy as np"
   ]
  },
  {
   "cell_type": "code",
   "execution_count": 3,
   "id": "ebe07835-35f7-4048-b744-db8e2ef12a65",
   "metadata": {},
   "outputs": [
    {
     "name": "stdout",
     "output_type": "stream",
     "text": [
      "YF.download() has changed argument auto_adjust default to True\n"
     ]
    },
    {
     "name": "stderr",
     "output_type": "stream",
     "text": [
      "[*********************100%***********************]  3 of 3 completed\n"
     ]
    }
   ],
   "source": [
    "df = yf.download(['MSFT', 'KO', 'TSLA'], start = '2015-01-01')['Close']"
   ]
  },
  {
   "cell_type": "code",
   "execution_count": 12,
   "id": "21ef1cd2-7d38-42b3-97cb-1e12402548d4",
   "metadata": {},
   "outputs": [],
   "source": [
    "#calculating daily returns\n",
    "ret_df = df.pct_change()"
   ]
  },
  {
   "cell_type": "code",
   "execution_count": 6,
   "id": "fd3f9e56-4bca-4c96-93a5-b0ddfae25f56",
   "metadata": {},
   "outputs": [],
   "source": [
    "ret_df.dropna(inplace = True)"
   ]
  },
  {
   "cell_type": "code",
   "execution_count": 7,
   "id": "23687308-34ae-4a43-a341-718222e6fbe0",
   "metadata": {},
   "outputs": [
    {
     "data": {
      "text/html": [
       "<div>\n",
       "<style scoped>\n",
       "    .dataframe tbody tr th:only-of-type {\n",
       "        vertical-align: middle;\n",
       "    }\n",
       "\n",
       "    .dataframe tbody tr th {\n",
       "        vertical-align: top;\n",
       "    }\n",
       "\n",
       "    .dataframe thead th {\n",
       "        text-align: right;\n",
       "    }\n",
       "</style>\n",
       "<table border=\"1\" class=\"dataframe\">\n",
       "  <thead>\n",
       "    <tr style=\"text-align: right;\">\n",
       "      <th>Ticker</th>\n",
       "      <th>KO</th>\n",
       "      <th>MSFT</th>\n",
       "      <th>TSLA</th>\n",
       "    </tr>\n",
       "    <tr>\n",
       "      <th>Date</th>\n",
       "      <th></th>\n",
       "      <th></th>\n",
       "      <th></th>\n",
       "    </tr>\n",
       "  </thead>\n",
       "  <tbody>\n",
       "    <tr>\n",
       "      <th>2015-01-05</th>\n",
       "      <td>0.000000</td>\n",
       "      <td>-0.009196</td>\n",
       "      <td>-0.042041</td>\n",
       "    </tr>\n",
       "    <tr>\n",
       "      <th>2015-01-06</th>\n",
       "      <td>0.007594</td>\n",
       "      <td>-0.014677</td>\n",
       "      <td>0.005664</td>\n",
       "    </tr>\n",
       "    <tr>\n",
       "      <th>2015-01-07</th>\n",
       "      <td>0.012482</td>\n",
       "      <td>0.012706</td>\n",
       "      <td>-0.001562</td>\n",
       "    </tr>\n",
       "    <tr>\n",
       "      <th>2015-01-08</th>\n",
       "      <td>0.012096</td>\n",
       "      <td>0.029418</td>\n",
       "      <td>-0.001564</td>\n",
       "    </tr>\n",
       "    <tr>\n",
       "      <th>2015-01-09</th>\n",
       "      <td>-0.011032</td>\n",
       "      <td>-0.008405</td>\n",
       "      <td>-0.018802</td>\n",
       "    </tr>\n",
       "    <tr>\n",
       "      <th>...</th>\n",
       "      <td>...</td>\n",
       "      <td>...</td>\n",
       "      <td>...</td>\n",
       "    </tr>\n",
       "    <tr>\n",
       "      <th>2025-02-24</th>\n",
       "      <td>-0.010652</td>\n",
       "      <td>-0.010313</td>\n",
       "      <td>-0.021522</td>\n",
       "    </tr>\n",
       "    <tr>\n",
       "      <th>2025-02-25</th>\n",
       "      <td>0.012750</td>\n",
       "      <td>-0.015099</td>\n",
       "      <td>-0.083896</td>\n",
       "    </tr>\n",
       "    <tr>\n",
       "      <th>2025-02-26</th>\n",
       "      <td>-0.009652</td>\n",
       "      <td>0.004599</td>\n",
       "      <td>-0.039630</td>\n",
       "    </tr>\n",
       "    <tr>\n",
       "      <th>2025-02-27</th>\n",
       "      <td>0.000989</td>\n",
       "      <td>-0.018012</td>\n",
       "      <td>-0.030433</td>\n",
       "    </tr>\n",
       "    <tr>\n",
       "      <th>2025-02-28</th>\n",
       "      <td>0.004797</td>\n",
       "      <td>0.011362</td>\n",
       "      <td>0.039120</td>\n",
       "    </tr>\n",
       "  </tbody>\n",
       "</table>\n",
       "<p>2554 rows × 3 columns</p>\n",
       "</div>"
      ],
      "text/plain": [
       "Ticker            KO      MSFT      TSLA\n",
       "Date                                    \n",
       "2015-01-05  0.000000 -0.009196 -0.042041\n",
       "2015-01-06  0.007594 -0.014677  0.005664\n",
       "2015-01-07  0.012482  0.012706 -0.001562\n",
       "2015-01-08  0.012096  0.029418 -0.001564\n",
       "2015-01-09 -0.011032 -0.008405 -0.018802\n",
       "...              ...       ...       ...\n",
       "2025-02-24 -0.010652 -0.010313 -0.021522\n",
       "2025-02-25  0.012750 -0.015099 -0.083896\n",
       "2025-02-26 -0.009652  0.004599 -0.039630\n",
       "2025-02-27  0.000989 -0.018012 -0.030433\n",
       "2025-02-28  0.004797  0.011362  0.039120\n",
       "\n",
       "[2554 rows x 3 columns]"
      ]
     },
     "execution_count": 7,
     "metadata": {},
     "output_type": "execute_result"
    }
   ],
   "source": [
    "ret_df"
   ]
  },
  {
   "cell_type": "code",
   "execution_count": 9,
   "id": "6c84b12c-4433-4187-9c7a-a43038fa255b",
   "metadata": {},
   "outputs": [],
   "source": [
    "#Calculating cumulative returns\n",
    "cum_ret = (ret_df + 1).cumprod() - 1"
   ]
  },
  {
   "cell_type": "code",
   "execution_count": 10,
   "id": "ba96cabb-7d1c-4d2b-9ffc-1543f424fb60",
   "metadata": {},
   "outputs": [
    {
     "data": {
      "text/html": [
       "<div>\n",
       "<style scoped>\n",
       "    .dataframe tbody tr th:only-of-type {\n",
       "        vertical-align: middle;\n",
       "    }\n",
       "\n",
       "    .dataframe tbody tr th {\n",
       "        vertical-align: top;\n",
       "    }\n",
       "\n",
       "    .dataframe thead th {\n",
       "        text-align: right;\n",
       "    }\n",
       "</style>\n",
       "<table border=\"1\" class=\"dataframe\">\n",
       "  <thead>\n",
       "    <tr style=\"text-align: right;\">\n",
       "      <th>Ticker</th>\n",
       "      <th>KO</th>\n",
       "      <th>MSFT</th>\n",
       "      <th>TSLA</th>\n",
       "    </tr>\n",
       "    <tr>\n",
       "      <th>Date</th>\n",
       "      <th></th>\n",
       "      <th></th>\n",
       "      <th></th>\n",
       "    </tr>\n",
       "  </thead>\n",
       "  <tbody>\n",
       "    <tr>\n",
       "      <th>2015-01-05</th>\n",
       "      <td>0.000000</td>\n",
       "      <td>-0.009196</td>\n",
       "      <td>-0.042041</td>\n",
       "    </tr>\n",
       "    <tr>\n",
       "      <th>2015-01-06</th>\n",
       "      <td>0.007594</td>\n",
       "      <td>-0.023738</td>\n",
       "      <td>-0.036615</td>\n",
       "    </tr>\n",
       "    <tr>\n",
       "      <th>2015-01-07</th>\n",
       "      <td>0.020171</td>\n",
       "      <td>-0.011334</td>\n",
       "      <td>-0.038120</td>\n",
       "    </tr>\n",
       "    <tr>\n",
       "      <th>2015-01-08</th>\n",
       "      <td>0.032510</td>\n",
       "      <td>0.017750</td>\n",
       "      <td>-0.039624</td>\n",
       "    </tr>\n",
       "    <tr>\n",
       "      <th>2015-01-09</th>\n",
       "      <td>0.021120</td>\n",
       "      <td>0.009196</td>\n",
       "      <td>-0.057681</td>\n",
       "    </tr>\n",
       "    <tr>\n",
       "      <th>...</th>\n",
       "      <td>...</td>\n",
       "      <td>...</td>\n",
       "      <td>...</td>\n",
       "    </tr>\n",
       "    <tr>\n",
       "      <th>2025-02-24</th>\n",
       "      <td>1.302190</td>\n",
       "      <td>9.081820</td>\n",
       "      <td>21.607039</td>\n",
       "    </tr>\n",
       "    <tr>\n",
       "      <th>2025-02-25</th>\n",
       "      <td>1.331542</td>\n",
       "      <td>8.929595</td>\n",
       "      <td>19.710408</td>\n",
       "    </tr>\n",
       "    <tr>\n",
       "      <th>2025-02-26</th>\n",
       "      <td>1.309039</td>\n",
       "      <td>8.975263</td>\n",
       "      <td>18.889652</td>\n",
       "    </tr>\n",
       "    <tr>\n",
       "      <th>2025-02-27</th>\n",
       "      <td>1.311322</td>\n",
       "      <td>8.795586</td>\n",
       "      <td>18.284346</td>\n",
       "    </tr>\n",
       "    <tr>\n",
       "      <th>2025-02-28</th>\n",
       "      <td>1.322410</td>\n",
       "      <td>8.906886</td>\n",
       "      <td>19.038758</td>\n",
       "    </tr>\n",
       "  </tbody>\n",
       "</table>\n",
       "<p>2554 rows × 3 columns</p>\n",
       "</div>"
      ],
      "text/plain": [
       "Ticker            KO      MSFT       TSLA\n",
       "Date                                     \n",
       "2015-01-05  0.000000 -0.009196  -0.042041\n",
       "2015-01-06  0.007594 -0.023738  -0.036615\n",
       "2015-01-07  0.020171 -0.011334  -0.038120\n",
       "2015-01-08  0.032510  0.017750  -0.039624\n",
       "2015-01-09  0.021120  0.009196  -0.057681\n",
       "...              ...       ...        ...\n",
       "2025-02-24  1.302190  9.081820  21.607039\n",
       "2025-02-25  1.331542  8.929595  19.710408\n",
       "2025-02-26  1.309039  8.975263  18.889652\n",
       "2025-02-27  1.311322  8.795586  18.284346\n",
       "2025-02-28  1.322410  8.906886  19.038758\n",
       "\n",
       "[2554 rows x 3 columns]"
      ]
     },
     "execution_count": 10,
     "metadata": {},
     "output_type": "execute_result"
    }
   ],
   "source": [
    "cum_ret"
   ]
  },
  {
   "cell_type": "code",
   "execution_count": 14,
   "id": "d04e0d44-b385-4a9a-a2e3-4823ca97a201",
   "metadata": {},
   "outputs": [
    {
     "data": {
      "text/plain": [
       "<Axes: xlabel='Date'>"
      ]
     },
     "execution_count": 14,
     "metadata": {},
     "output_type": "execute_result"
    },
    {
     "data": {
      "image/png": "[encoded data removed]",
      "text/plain": [
       "<Figure size 640x480 with 1 Axes>"
      ]
     },
     "metadata": {},
     "output_type": "display_data"
    }
   ],
   "source": [
    "#plotting cumulative returns\n",
    "cum_ret.plot()"
   ]
  },
  {
   "cell_type": "code",
   "execution_count": 17,
   "id": "fd3eff3d-3bae-41ae-b35a-3187b04bb109",
   "metadata": {},
   "outputs": [],
   "source": [
    "#mean daily returns of the assets\n",
    "mean_ret = ret_df.mean()"
   ]
  },
  {
   "cell_type": "code",
   "execution_count": 18,
   "id": "7d89de0b-f75d-4d5e-a0c8-9f10d4098b2b",
   "metadata": {},
   "outputs": [
    {
     "data": {
      "text/plain": [
       "Ticker\n",
       "KO      0.000393\n",
       "MSFT    0.001044\n",
       "TSLA    0.001821\n",
       "dtype: float64"
      ]
     },
     "execution_count": 18,
     "metadata": {},
     "output_type": "execute_result"
    }
   ],
   "source": [
    "mean_ret"
   ]
  },
  {
   "cell_type": "code",
   "execution_count": 21,
   "id": "76c2aef9-5150-49c4-bc9c-3ef89e3074ca",
   "metadata": {},
   "outputs": [],
   "source": [
    "#std dev of daily returns\n",
    "#Indicates volatility (risk)\n",
    "std_ret = ret_df.std()"
   ]
  },
  {
   "cell_type": "code",
   "execution_count": 22,
   "id": "6dcdafb7-21f5-4636-835a-f191b31a37f0",
   "metadata": {},
   "outputs": [
    {
     "data": {
      "text/plain": [
       "Ticker\n",
       "KO      0.011242\n",
       "MSFT    0.017085\n",
       "TSLA    0.036029\n",
       "dtype: float64"
      ]
     },
     "execution_count": 22,
     "metadata": {},
     "output_type": "execute_result"
    }
   ],
   "source": [
    "std_ret"
   ]
  },
  {
   "cell_type": "code",
   "execution_count": 23,
   "id": "272588ad-05f9-4668-a1d3-6da3238e550e",
   "metadata": {},
   "outputs": [],
   "source": [
    "#Covariance matrix\n",
    "cov_matrix = ret_df.cov()"
   ]
  },
  {
   "cell_type": "code",
   "execution_count": 26,
   "id": "92f27111-3743-4b32-b17e-f74f1301f13d",
   "metadata": {},
   "outputs": [
    {
     "data": {
      "text/html": [
       "<div>\n",
       "<style scoped>\n",
       "    .dataframe tbody tr th:only-of-type {\n",
       "        vertical-align: middle;\n",
       "    }\n",
       "\n",
       "    .dataframe tbody tr th {\n",
       "        vertical-align: top;\n",
       "    }\n",
       "\n",
       "    .dataframe thead th {\n",
       "        text-align: right;\n",
       "    }\n",
       "</style>\n",
       "<table border=\"1\" class=\"dataframe\">\n",
       "  <thead>\n",
       "    <tr style=\"text-align: right;\">\n",
       "      <th>Ticker</th>\n",
       "      <th>KO</th>\n",
       "      <th>MSFT</th>\n",
       "      <th>TSLA</th>\n",
       "    </tr>\n",
       "    <tr>\n",
       "      <th>Ticker</th>\n",
       "      <th></th>\n",
       "      <th></th>\n",
       "      <th></th>\n",
       "    </tr>\n",
       "  </thead>\n",
       "  <tbody>\n",
       "    <tr>\n",
       "      <th>KO</th>\n",
       "      <td>0.000126</td>\n",
       "      <td>0.000075</td>\n",
       "      <td>0.000060</td>\n",
       "    </tr>\n",
       "    <tr>\n",
       "      <th>MSFT</th>\n",
       "      <td>0.000075</td>\n",
       "      <td>0.000292</td>\n",
       "      <td>0.000245</td>\n",
       "    </tr>\n",
       "    <tr>\n",
       "      <th>TSLA</th>\n",
       "      <td>0.000060</td>\n",
       "      <td>0.000245</td>\n",
       "      <td>0.001298</td>\n",
       "    </tr>\n",
       "  </tbody>\n",
       "</table>\n",
       "</div>"
      ],
      "text/plain": [
       "Ticker        KO      MSFT      TSLA\n",
       "Ticker                              \n",
       "KO      0.000126  0.000075  0.000060\n",
       "MSFT    0.000075  0.000292  0.000245\n",
       "TSLA    0.000060  0.000245  0.001298"
      ]
     },
     "execution_count": 26,
     "metadata": {},
     "output_type": "execute_result"
    }
   ],
   "source": [
    "#Note all assets have a positive directional relationship\n",
    "cov_matrix"
   ]
  },
  {
   "cell_type": "code",
   "execution_count": 29,
   "id": "2fada30a-57dd-4973-be66-0893b7e7beb9",
   "metadata": {},
   "outputs": [],
   "source": [
    "#Checking strength of relationship btwn stocks\n",
    "#Correlation matrix\n",
    "cor_matrix = ret_df.corr()"
   ]
  },
  {
   "cell_type": "code",
   "execution_count": 30,
   "id": "dff8f253-197c-4ffc-898f-c64208fe8a6d",
   "metadata": {},
   "outputs": [
    {
     "data": {
      "text/html": [
       "<div>\n",
       "<style scoped>\n",
       "    .dataframe tbody tr th:only-of-type {\n",
       "        vertical-align: middle;\n",
       "    }\n",
       "\n",
       "    .dataframe tbody tr th {\n",
       "        vertical-align: top;\n",
       "    }\n",
       "\n",
       "    .dataframe thead th {\n",
       "        text-align: right;\n",
       "    }\n",
       "</style>\n",
       "<table border=\"1\" class=\"dataframe\">\n",
       "  <thead>\n",
       "    <tr style=\"text-align: right;\">\n",
       "      <th>Ticker</th>\n",
       "      <th>KO</th>\n",
       "      <th>MSFT</th>\n",
       "      <th>TSLA</th>\n",
       "    </tr>\n",
       "    <tr>\n",
       "      <th>Ticker</th>\n",
       "      <th></th>\n",
       "      <th></th>\n",
       "      <th></th>\n",
       "    </tr>\n",
       "  </thead>\n",
       "  <tbody>\n",
       "    <tr>\n",
       "      <th>KO</th>\n",
       "      <td>1.000000</td>\n",
       "      <td>0.387947</td>\n",
       "      <td>0.148996</td>\n",
       "    </tr>\n",
       "    <tr>\n",
       "      <th>MSFT</th>\n",
       "      <td>0.387947</td>\n",
       "      <td>1.000000</td>\n",
       "      <td>0.398428</td>\n",
       "    </tr>\n",
       "    <tr>\n",
       "      <th>TSLA</th>\n",
       "      <td>0.148996</td>\n",
       "      <td>0.398428</td>\n",
       "      <td>1.000000</td>\n",
       "    </tr>\n",
       "  </tbody>\n",
       "</table>\n",
       "</div>"
      ],
      "text/plain": [
       "Ticker        KO      MSFT      TSLA\n",
       "Ticker                              \n",
       "KO      1.000000  0.387947  0.148996\n",
       "MSFT    0.387947  1.000000  0.398428\n",
       "TSLA    0.148996  0.398428  1.000000"
      ]
     },
     "execution_count": 30,
     "metadata": {},
     "output_type": "execute_result"
    }
   ],
   "source": [
    "cor_matrix"
   ]
  },
  {
   "cell_type": "code",
   "execution_count": 32,
   "id": "291daf9c-2c02-4954-915c-1086389e5e0b",
   "metadata": {},
   "outputs": [],
   "source": [
    "#number of assets in our portfolio\n",
    "num = len(ret_df.columns)"
   ]
  },
  {
   "cell_type": "code",
   "execution_count": 34,
   "id": "6461c23e-439f-4249-8580-e9ae8e388787",
   "metadata": {},
   "outputs": [],
   "source": [
    "#calculating the weight of e/a asset\n",
    "#remember we assumed equal weights of e/a asset\n",
    "w = np.ones(num) / num"
   ]
  },
  {
   "cell_type": "code",
   "execution_count": 36,
   "id": "c714a8b3-54dc-455b-900d-6825a56005d2",
   "metadata": {},
   "outputs": [],
   "source": [
    "#Calculating portfolio expected return\n",
    "#Equal to daily return vector matrix multiplied by weight vector\n",
    "pf_exp_ret = w.dot(ret_df.mean())"
   ]
  },
  {
   "cell_type": "code",
   "execution_count": 37,
   "id": "cfee2ff9-a2f5-420a-ba3e-e62c5d6fc7c7",
   "metadata": {},
   "outputs": [
    {
     "data": {
      "text/plain": [
       "np.float64(0.0010860510020369808)"
      ]
     },
     "execution_count": 37,
     "metadata": {},
     "output_type": "execute_result"
    }
   ],
   "source": [
    "pf_exp_ret"
   ]
  },
  {
   "cell_type": "code",
   "execution_count": 38,
   "id": "5b29ae47-98bc-4038-bfae-b6800a8d6d92",
   "metadata": {},
   "outputs": [],
   "source": [
    "#Calculating portfolio variance\n",
    "pf_var = w.dot(ret_df.cov().dot(w))"
   ]
  },
  {
   "cell_type": "code",
   "execution_count": 39,
   "id": "6b7d87b2-bac2-4b53-bee7-6f337f83aa6a",
   "metadata": {},
   "outputs": [
    {
     "data": {
      "text/plain": [
       "np.float64(0.00027517752837660314)"
      ]
     },
     "execution_count": 39,
     "metadata": {},
     "output_type": "execute_result"
    }
   ],
   "source": [
    "pf_var"
   ]
  },
  {
   "cell_type": "code",
   "execution_count": 40,
   "id": "75cfd06a-1281-43e8-9b2b-f6347f6c403b",
   "metadata": {},
   "outputs": [],
   "source": [
    "#Calculating profile standard deviation\n",
    "#This is profile volatility/risk\n",
    "pf_std = pf_var ** (1/2)"
   ]
  },
  {
   "cell_type": "code",
   "execution_count": 41,
   "id": "670ef608-2fb9-49ba-ad1e-2734d5341425",
   "metadata": {},
   "outputs": [
    {
     "data": {
      "text/plain": [
       "np.float64(0.016588475770142448)"
      ]
     },
     "execution_count": 41,
     "metadata": {},
     "output_type": "execute_result"
    }
   ],
   "source": [
    "pf_std"
   ]
  },
  {
   "cell_type": "code",
   "execution_count": 46,
   "id": "2b263a55-064e-4683-bad1-00d6deed0f44",
   "metadata": {},
   "outputs": [],
   "source": [
    "#Calculating sharpe ratio of e/a stock\n",
    "#This measures the risk adjusted return of e/a stock\n",
    "sharpe_ratio = mean_ret / std_ret"
   ]
  },
  {
   "cell_type": "code",
   "execution_count": 47,
   "id": "9b1ee9ee-a16e-409a-ba38-a3fe4514bde3",
   "metadata": {},
   "outputs": [
    {
     "data": {
      "text/plain": [
       "Ticker\n",
       "KO      0.035002\n",
       "MSFT    0.061114\n",
       "TSLA    0.050529\n",
       "dtype: float64"
      ]
     },
     "execution_count": 47,
     "metadata": {},
     "output_type": "execute_result"
    }
   ],
   "source": [
    "sharpe_ratio"
   ]
  },
  {
   "cell_type": "code",
   "execution_count": 49,
   "id": "ada9f6e5-b8b1-40bb-8279-bf6fb0456a50",
   "metadata": {},
   "outputs": [],
   "source": [
    "#calculating sharpe ratio of the portfolio\n",
    "pf_sharpe_ratio = pf_exp_ret / pf_std"
   ]
  },
  {
   "cell_type": "code",
   "execution_count": 50,
   "id": "68737c68-0c98-4874-a1dc-d561504c3b60",
   "metadata": {},
   "outputs": [
    {
     "data": {
      "text/plain": [
       "np.float64(0.06547021058991816)"
      ]
     },
     "execution_count": 50,
     "metadata": {},
     "output_type": "execute_result"
    }
   ],
   "source": [
    "pf_sharpe_ratio"
   ]
  },
  {
   "cell_type": "code",
   "execution_count": 54,
   "id": "27c5895a-b60f-4e94-8dd2-426f541cb0af",
   "metadata": {},
   "outputs": [],
   "source": [
    "ret_df.dropna(inplace = True)"
   ]
  },
  {
   "cell_type": "code",
   "execution_count": 56,
   "id": "63408800-c617-4c4c-8052-e49f2c37b8d3",
   "metadata": {},
   "outputs": [],
   "source": [
    "#calculating portfolio daily return\n",
    "#we know we have an equal weighted portfolio so we can just take the average return of e/a row of e/a day\n",
    "pf_daily_ret = ret_df.mean(axis = 1)"
   ]
  },
  {
   "cell_type": "code",
   "execution_count": 57,
   "id": "234debea-4375-4071-a0ae-ab7cceaeb121",
   "metadata": {},
   "outputs": [
    {
     "data": {
      "text/plain": [
       "Date\n",
       "2015-01-05   -0.017079\n",
       "2015-01-06   -0.000473\n",
       "2015-01-07    0.007875\n",
       "2015-01-08    0.013316\n",
       "2015-01-09   -0.012746\n",
       "                ...   \n",
       "2025-02-24   -0.014162\n",
       "2025-02-25   -0.028748\n",
       "2025-02-26   -0.014894\n",
       "2025-02-27   -0.015819\n",
       "2025-02-28    0.018427\n",
       "Length: 2554, dtype: float64"
      ]
     },
     "execution_count": 57,
     "metadata": {},
     "output_type": "execute_result"
    }
   ],
   "source": [
    "pf_daily_ret"
   ]
  },
  {
   "cell_type": "code",
   "execution_count": 58,
   "id": "20ffe90e-b9c2-4998-8ffb-07cbc574aa5d",
   "metadata": {},
   "outputs": [],
   "source": [
    "#Calculating cumulative portfolio daily return\n",
    "pf_cum_ret = (1+pf_daily_ret).cumprod() - 1"
   ]
  },
  {
   "cell_type": "code",
   "execution_count": 59,
   "id": "ba2a4f84-ade9-4a45-a33d-f26760e0de99",
   "metadata": {},
   "outputs": [
    {
     "data": {
      "text/plain": [
       "Date\n",
       "2015-01-05    -0.017079\n",
       "2015-01-06    -0.017544\n",
       "2015-01-07    -0.009807\n",
       "2015-01-08     0.003379\n",
       "2015-01-09    -0.009410\n",
       "                ...    \n",
       "2025-02-24    10.729302\n",
       "2025-02-25    10.392105\n",
       "2025-02-26    10.222429\n",
       "2025-02-27    10.044902\n",
       "2025-02-28    10.248423\n",
       "Length: 2554, dtype: float64"
      ]
     },
     "execution_count": 59,
     "metadata": {},
     "output_type": "execute_result"
    }
   ],
   "source": [
    "pf_cum_ret"
   ]
  },
  {
   "cell_type": "code",
   "execution_count": 60,
   "id": "60c70024-d6c8-4bc0-9446-f540f307851b",
   "metadata": {},
   "outputs": [
    {
     "data": {
      "text/plain": [
       "<Axes: xlabel='Date'>"
      ]
     },
     "execution_count": 60,
     "metadata": {},
     "output_type": "execute_result"
    },
    {
     "data": {
      "image/png": "[encoded data removed]",
      "text/plain": [
       "<Figure size 640x480 with 1 Axes>"
      ]
     },
     "metadata": {},
     "output_type": "display_data"
    }
   ],
   "source": [
    "#plotting portfolio cumulative return\n",
    "pf_cum_ret.plot()"
   ]
  },
  {
   "cell_type": "markdown",
   "id": "87270bb4-30b1-44bd-946e-055054e329b3",
   "metadata": {},
   "source": [
    "## Efficient Frontier"
   ]
  },
  {
   "cell_type": "code",
   "execution_count": 61,
   "id": "d5af43ba-89f0-4bfb-a70e-8751562820f3",
   "metadata": {},
   "outputs": [],
   "source": [
    "import yfinance as yf\n",
    "import pandas as pd\n",
    "import numpy as np"
   ]
  },
  {
   "cell_type": "code",
   "execution_count": 70,
   "id": "5ff0f98c-319e-416c-b981-d5859bf69d33",
   "metadata": {},
   "outputs": [
    {
     "name": "stderr",
     "output_type": "stream",
     "text": [
      "[*********************100%***********************]  3 of 3 completed\n"
     ]
    }
   ],
   "source": [
    "df = yf.download(['MSFT', 'KO', 'MMM'], start = '2015-01-01')['Close']"
   ]
  },
  {
   "cell_type": "code",
   "execution_count": 74,
   "id": "8715f449-ad91-44f3-b44d-d08071ae0f05",
   "metadata": {},
   "outputs": [
    {
     "data": {
      "text/html": [
       "<div>\n",
       "<style scoped>\n",
       "    .dataframe tbody tr th:only-of-type {\n",
       "        vertical-align: middle;\n",
       "    }\n",
       "\n",
       "    .dataframe tbody tr th {\n",
       "        vertical-align: top;\n",
       "    }\n",
       "\n",
       "    .dataframe thead th {\n",
       "        text-align: right;\n",
       "    }\n",
       "</style>\n",
       "<table border=\"1\" class=\"dataframe\">\n",
       "  <thead>\n",
       "    <tr style=\"text-align: right;\">\n",
       "      <th>Ticker</th>\n",
       "      <th>KO</th>\n",
       "      <th>MMM</th>\n",
       "      <th>MSFT</th>\n",
       "    </tr>\n",
       "    <tr>\n",
       "      <th>Date</th>\n",
       "      <th></th>\n",
       "      <th></th>\n",
       "      <th></th>\n",
       "    </tr>\n",
       "  </thead>\n",
       "  <tbody>\n",
       "    <tr>\n",
       "      <th>2015-01-02</th>\n",
       "      <td>30.662111</td>\n",
       "      <td>97.442451</td>\n",
       "      <td>40.072132</td>\n",
       "    </tr>\n",
       "    <tr>\n",
       "      <th>2015-01-05</th>\n",
       "      <td>30.662111</td>\n",
       "      <td>95.244827</td>\n",
       "      <td>39.703636</td>\n",
       "    </tr>\n",
       "    <tr>\n",
       "      <th>2015-01-06</th>\n",
       "      <td>30.894953</td>\n",
       "      <td>94.229195</td>\n",
       "      <td>39.120903</td>\n",
       "    </tr>\n",
       "    <tr>\n",
       "      <th>2015-01-07</th>\n",
       "      <td>31.280596</td>\n",
       "      <td>94.912224</td>\n",
       "      <td>39.617939</td>\n",
       "    </tr>\n",
       "    <tr>\n",
       "      <th>2015-01-08</th>\n",
       "      <td>31.658966</td>\n",
       "      <td>97.187012</td>\n",
       "      <td>40.783413</td>\n",
       "    </tr>\n",
       "    <tr>\n",
       "      <th>...</th>\n",
       "      <td>...</td>\n",
       "      <td>...</td>\n",
       "      <td>...</td>\n",
       "    </tr>\n",
       "    <tr>\n",
       "      <th>2025-02-24</th>\n",
       "      <td>70.589996</td>\n",
       "      <td>145.479996</td>\n",
       "      <td>404.000000</td>\n",
       "    </tr>\n",
       "    <tr>\n",
       "      <th>2025-02-25</th>\n",
       "      <td>71.489998</td>\n",
       "      <td>146.539993</td>\n",
       "      <td>397.899994</td>\n",
       "    </tr>\n",
       "    <tr>\n",
       "      <th>2025-02-26</th>\n",
       "      <td>70.800003</td>\n",
       "      <td>147.429993</td>\n",
       "      <td>399.730011</td>\n",
       "    </tr>\n",
       "    <tr>\n",
       "      <th>2025-02-27</th>\n",
       "      <td>70.870003</td>\n",
       "      <td>150.520004</td>\n",
       "      <td>392.529999</td>\n",
       "    </tr>\n",
       "    <tr>\n",
       "      <th>2025-02-28</th>\n",
       "      <td>71.209999</td>\n",
       "      <td>155.119995</td>\n",
       "      <td>396.989990</td>\n",
       "    </tr>\n",
       "  </tbody>\n",
       "</table>\n",
       "<p>2555 rows × 3 columns</p>\n",
       "</div>"
      ],
      "text/plain": [
       "Ticker             KO         MMM        MSFT\n",
       "Date                                         \n",
       "2015-01-02  30.662111   97.442451   40.072132\n",
       "2015-01-05  30.662111   95.244827   39.703636\n",
       "2015-01-06  30.894953   94.229195   39.120903\n",
       "2015-01-07  31.280596   94.912224   39.617939\n",
       "2015-01-08  31.658966   97.187012   40.783413\n",
       "...               ...         ...         ...\n",
       "2025-02-24  70.589996  145.479996  404.000000\n",
       "2025-02-25  71.489998  146.539993  397.899994\n",
       "2025-02-26  70.800003  147.429993  399.730011\n",
       "2025-02-27  70.870003  150.520004  392.529999\n",
       "2025-02-28  71.209999  155.119995  396.989990\n",
       "\n",
       "[2555 rows x 3 columns]"
      ]
     },
     "execution_count": 74,
     "metadata": {},
     "output_type": "execute_result"
    }
   ],
   "source": [
    "df"
   ]
  },
  {
   "cell_type": "code",
   "execution_count": 71,
   "id": "28c75fa1-522e-4771-932e-dbf666d9674f",
   "metadata": {},
   "outputs": [],
   "source": [
    "#daily return\n",
    "ret_df = df.pct_change()"
   ]
  },
  {
   "cell_type": "code",
   "execution_count": 72,
   "id": "8d48888d-f53e-43ea-8388-9755713d7add",
   "metadata": {},
   "outputs": [],
   "source": [
    "#Dropping the first row\n",
    "ret_df.dropna(inplace = True)"
   ]
  },
  {
   "cell_type": "code",
   "execution_count": 73,
   "id": "c0ab6dd7-f864-4b23-b086-5dac73bae074",
   "metadata": {},
   "outputs": [
    {
     "data": {
      "text/html": [
       "<div>\n",
       "<style scoped>\n",
       "    .dataframe tbody tr th:only-of-type {\n",
       "        vertical-align: middle;\n",
       "    }\n",
       "\n",
       "    .dataframe tbody tr th {\n",
       "        vertical-align: top;\n",
       "    }\n",
       "\n",
       "    .dataframe thead th {\n",
       "        text-align: right;\n",
       "    }\n",
       "</style>\n",
       "<table border=\"1\" class=\"dataframe\">\n",
       "  <thead>\n",
       "    <tr style=\"text-align: right;\">\n",
       "      <th>Ticker</th>\n",
       "      <th>KO</th>\n",
       "      <th>MMM</th>\n",
       "      <th>MSFT</th>\n",
       "    </tr>\n",
       "    <tr>\n",
       "      <th>Date</th>\n",
       "      <th></th>\n",
       "      <th></th>\n",
       "      <th></th>\n",
       "    </tr>\n",
       "  </thead>\n",
       "  <tbody>\n",
       "    <tr>\n",
       "      <th>2015-01-05</th>\n",
       "      <td>0.000000</td>\n",
       "      <td>-0.022553</td>\n",
       "      <td>-0.009196</td>\n",
       "    </tr>\n",
       "    <tr>\n",
       "      <th>2015-01-06</th>\n",
       "      <td>0.007594</td>\n",
       "      <td>-0.010663</td>\n",
       "      <td>-0.014677</td>\n",
       "    </tr>\n",
       "    <tr>\n",
       "      <th>2015-01-07</th>\n",
       "      <td>0.012482</td>\n",
       "      <td>0.007249</td>\n",
       "      <td>0.012705</td>\n",
       "    </tr>\n",
       "    <tr>\n",
       "      <th>2015-01-08</th>\n",
       "      <td>0.012096</td>\n",
       "      <td>0.023967</td>\n",
       "      <td>0.029418</td>\n",
       "    </tr>\n",
       "    <tr>\n",
       "      <th>2015-01-09</th>\n",
       "      <td>-0.011032</td>\n",
       "      <td>-0.012284</td>\n",
       "      <td>-0.008405</td>\n",
       "    </tr>\n",
       "    <tr>\n",
       "      <th>...</th>\n",
       "      <td>...</td>\n",
       "      <td>...</td>\n",
       "      <td>...</td>\n",
       "    </tr>\n",
       "    <tr>\n",
       "      <th>2025-02-24</th>\n",
       "      <td>-0.010652</td>\n",
       "      <td>0.003449</td>\n",
       "      <td>-0.010313</td>\n",
       "    </tr>\n",
       "    <tr>\n",
       "      <th>2025-02-25</th>\n",
       "      <td>0.012750</td>\n",
       "      <td>0.007286</td>\n",
       "      <td>-0.015099</td>\n",
       "    </tr>\n",
       "    <tr>\n",
       "      <th>2025-02-26</th>\n",
       "      <td>-0.009652</td>\n",
       "      <td>0.006073</td>\n",
       "      <td>0.004599</td>\n",
       "    </tr>\n",
       "    <tr>\n",
       "      <th>2025-02-27</th>\n",
       "      <td>0.000989</td>\n",
       "      <td>0.020959</td>\n",
       "      <td>-0.018012</td>\n",
       "    </tr>\n",
       "    <tr>\n",
       "      <th>2025-02-28</th>\n",
       "      <td>0.004797</td>\n",
       "      <td>0.030561</td>\n",
       "      <td>0.011362</td>\n",
       "    </tr>\n",
       "  </tbody>\n",
       "</table>\n",
       "<p>2554 rows × 3 columns</p>\n",
       "</div>"
      ],
      "text/plain": [
       "Ticker            KO       MMM      MSFT\n",
       "Date                                    \n",
       "2015-01-05  0.000000 -0.022553 -0.009196\n",
       "2015-01-06  0.007594 -0.010663 -0.014677\n",
       "2015-01-07  0.012482  0.007249  0.012705\n",
       "2015-01-08  0.012096  0.023967  0.029418\n",
       "2015-01-09 -0.011032 -0.012284 -0.008405\n",
       "...              ...       ...       ...\n",
       "2025-02-24 -0.010652  0.003449 -0.010313\n",
       "2025-02-25  0.012750  0.007286 -0.015099\n",
       "2025-02-26 -0.009652  0.006073  0.004599\n",
       "2025-02-27  0.000989  0.020959 -0.018012\n",
       "2025-02-28  0.004797  0.030561  0.011362\n",
       "\n",
       "[2554 rows x 3 columns]"
      ]
     },
     "execution_count": 73,
     "metadata": {},
     "output_type": "execute_result"
    }
   ],
   "source": [
    "ret_df"
   ]
  },
  {
   "cell_type": "code",
   "execution_count": 75,
   "id": "80427a3d-877c-4b89-9263-44ff044ce342",
   "metadata": {},
   "outputs": [],
   "source": [
    "#Assigning random weights to e/a asset\n",
    "#Always sums to 1 because it is assigning a percentage to each asset\n",
    "def give_weights():\n",
    "    #Generate n number of random values bwtn 0 and 1 for number of assets we have\n",
    "    rand = np.random.random(len(ret_df.columns))\n",
    "    #Divide by the current sum so that they always add up to 1\n",
    "    rand /= rand.sum()\n",
    "    return rand"
   ]
  },
  {
   "cell_type": "code",
   "execution_count": 82,
   "id": "9388ef7d-18c5-44f2-a66b-70000329fe1c",
   "metadata": {},
   "outputs": [
    {
     "data": {
      "text/plain": [
       "np.float64(1.0)"
      ]
     },
     "execution_count": 82,
     "metadata": {},
     "output_type": "execute_result"
    }
   ],
   "source": [
    "give_weights().sum()"
   ]
  },
  {
   "cell_type": "code",
   "execution_count": 90,
   "id": "98ad8ad0-99a5-4e9c-84ec-ff8054ec30f5",
   "metadata": {},
   "outputs": [],
   "source": [
    "pf_exp, pf_std, weights = [], [], []\n",
    "\n",
    "#we are going to do this 2000 times\n",
    "for i in range(2000):\n",
    "    #generating weights\n",
    "    w = give_weights()\n",
    "    #appending those weights to our weights list\n",
    "    weights.append(w)\n",
    "    #calculating the generated profile's expected return and appending it to the exp return list\n",
    "    #annualizing returns by multiplying by 252 for the number of trading days in a year\n",
    "    pf_exp.append(w.dot(ret_df.mean() * 252))\n",
    "    #calculating the generated profile's std and appending it to the std list\n",
    "    #annualizing returns by multiplying by 252 for the number of trading days in a year\n",
    "    pf_std.append((w.dot(ret_df.cov().dot(w)) * 252)**(1/2))"
   ]
  },
  {
   "cell_type": "code",
   "execution_count": 91,
   "id": "06b0c1ab-43bf-4420-a620-775c7cc28207",
   "metadata": {},
   "outputs": [],
   "source": [
    "#Creating a dataframe from our lists\n",
    "tog = pd.DataFrame({\n",
    "    'pf_exp': pf_exp,\n",
    "    'pf_std': pf_std,\n",
    "    'weights': weights\n",
    "})"
   ]
  },
  {
   "cell_type": "code",
   "execution_count": 95,
   "id": "8dde0b70-4d88-4ea5-9964-f03280ba0bc3",
   "metadata": {},
   "outputs": [
    {
     "data": {
      "text/plain": [
       "<Axes: title={'center': 'Efficiency Frontier'}, xlabel='pf_std', ylabel='pf_exp'>"
      ]
     },
     "execution_count": 95,
     "metadata": {},
     "output_type": "execute_result"
    },
    {
     "data": {
      "image/png": "[encoded data removed]",
      "text/plain": [
       "<Figure size 640x480 with 1 Axes>"
      ]
     },
     "metadata": {},
     "output_type": "display_data"
    }
   ],
   "source": [
    "#plotting our data frame\n",
    "tog.plot(x = 'pf_std', y = 'pf_exp', kind = 'scatter', title = 'Efficiency Frontier')"
   ]
  },
  {
   "cell_type": "code",
   "execution_count": 100,
   "id": "38092ee1-3d56-4b36-b85a-394fe753b659",
   "metadata": {},
   "outputs": [],
   "source": [
    "#Calculating sharpe ratios\n",
    "sharpes = tog.pf_exp / tog.pf_std"
   ]
  },
  {
   "cell_type": "code",
   "execution_count": 103,
   "id": "65d6b251-ff97-4367-a5b2-71f0c8dd1d32",
   "metadata": {},
   "outputs": [
    {
     "data": {
      "text/plain": [
       "1572    0.987937\n",
       "dtype: float64"
      ]
     },
     "execution_count": 103,
     "metadata": {},
     "output_type": "execute_result"
    }
   ],
   "source": [
    "#largest sharpe value\n",
    "sharpes.nlargest(1)"
   ]
  },
  {
   "cell_type": "code",
   "execution_count": 105,
   "id": "68143372-3880-4046-b18c-72e848a2204b",
   "metadata": {},
   "outputs": [
    {
     "name": "stdout",
     "output_type": "stream",
     "text": [
      "[0.3177869  0.00185831 0.68035478]\n"
     ]
    }
   ],
   "source": [
    "#printing the weights of e/a stock\n",
    "for value in tog.loc[sharpes.nlargest(1).index]['weights']:\n",
    "    print(value)"
   ]
  },
  {
   "cell_type": "code",
   "execution_count": 109,
   "id": "0a1deaca-b295-4272-9d6e-2916cca26c92",
   "metadata": {},
   "outputs": [
    {
     "data": {
      "text/html": [
       "<div>\n",
       "<style scoped>\n",
       "    .dataframe tbody tr th:only-of-type {\n",
       "        vertical-align: middle;\n",
       "    }\n",
       "\n",
       "    .dataframe tbody tr th {\n",
       "        vertical-align: top;\n",
       "    }\n",
       "\n",
       "    .dataframe thead th {\n",
       "        text-align: right;\n",
       "    }\n",
       "</style>\n",
       "<table border=\"1\" class=\"dataframe\">\n",
       "  <thead>\n",
       "    <tr style=\"text-align: right;\">\n",
       "      <th></th>\n",
       "      <th>pf_exp</th>\n",
       "      <th>pf_std</th>\n",
       "      <th>weights</th>\n",
       "    </tr>\n",
       "  </thead>\n",
       "  <tbody>\n",
       "    <tr>\n",
       "      <th>1967</th>\n",
       "      <td>0.120157</td>\n",
       "      <td>0.166955</td>\n",
       "      <td>[0.6688273714339784, 0.17889387900208675, 0.15...</td>\n",
       "    </tr>\n",
       "  </tbody>\n",
       "</table>\n",
       "</div>"
      ],
      "text/plain": [
       "        pf_exp    pf_std                                            weights\n",
       "1967  0.120157  0.166955  [0.6688273714339784, 0.17889387900208675, 0.15..."
      ]
     },
     "execution_count": 109,
     "metadata": {},
     "output_type": "execute_result"
    }
   ],
   "source": [
    "#finding the minimum variance portfolio\n",
    "tog.nsmallest(1, 'pf_std')"
   ]
  },
  {
   "cell_type": "code",
   "execution_count": null,
   "id": "4307aa83-3bde-4787-aa32-dac27121c281",
   "metadata": {},
   "outputs": [],
   "source": []
  }
 ],
 "metadata": {
  "kernelspec": {
   "display_name": "Python 3 (ipykernel)",
   "language": "python",
   "name": "python3"
  },
  "language_info": {
   "codemirror_mode": {
    "name": "ipython",
    "version": 3
   },
   "file_extension": ".py",
   "mimetype": "text/x-python",
   "name": "python",
   "nbconvert_exporter": "python",
   "pygments_lexer": "ipython3",
   "version": "3.13.2"
  }
 },
 "nbformat": 4,
 "nbformat_minor": 5
}
